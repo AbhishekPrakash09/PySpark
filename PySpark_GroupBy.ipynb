{
 "cells": [
  {
   "cell_type": "code",
   "execution_count": 1,
   "id": "d8c9e49b",
   "metadata": {},
   "outputs": [],
   "source": [
    "from pyspark.sql import SparkSession\n",
    "spark = SparkSession.builder.appName('Practice').getOrCreate()"
   ]
  },
  {
   "cell_type": "code",
   "execution_count": 2,
   "id": "47467729",
   "metadata": {},
   "outputs": [],
   "source": [
    "df_pyspark = spark.read.csv('cars.csv', header=True, inferSchema=True)"
   ]
  },
  {
   "cell_type": "code",
   "execution_count": 3,
   "id": "bf589ccd",
   "metadata": {},
   "outputs": [
    {
     "name": "stdout",
     "output_type": "stream",
     "text": [
      "+-----+--------------------+------+------+----------+------+\n",
      "| Make|               Model|  Type|Origin|DriveTrain|Length|\n",
      "+-----+--------------------+------+------+----------+------+\n",
      "|Acura|                 MDX|   SUV|  Asia|       All|  4451|\n",
      "|Acura|      RSX Type S 2dr| Sedan|  Asia|     Front|  2778|\n",
      "|Acura|             TSX 4dr| Sedan|  Asia|     Front|  3230|\n",
      "|Acura|              TL 4dr| Sedan|  Asia|     Front|  3575|\n",
      "|Acura|          3.5 RL 4dr| Sedan|  Asia|     Front|  3880|\n",
      "|Acura|3.5 RL w/Navigati...| Sedan|  Asia|     Front|  3893|\n",
      "|Acura|NSX coupe 2dr man...|Sports|  Asia|      Rear|  3153|\n",
      "| Audi|         A4 1.8T 4dr| Sedan|Europe|     Front|  3252|\n",
      "| Audi|A41.8T convertibl...| Sedan|Europe|     Front|  3638|\n",
      "| Audi|          A4 3.0 4dr| Sedan|Europe|     Front|  3462|\n",
      "| Audi|A4 3.0 Quattro 4d...| Sedan|Europe|       All|  3583|\n",
      "| Audi|A4 3.0 Quattro 4d...| Sedan|Europe|       All|  3627|\n",
      "| Audi|          A6 3.0 4dr| Sedan|Europe|     Front|  3561|\n",
      "| Audi|  A6 3.0 Quattro 4dr| Sedan|Europe|       All|  3880|\n",
      "| Audi|A4 3.0 convertibl...| Sedan|Europe|     Front|  3814|\n",
      "| Audi|A4 3.0 Quattro co...| Sedan|Europe|       All|  4013|\n",
      "| Audi|A6 2.7 Turbo Quat...| Sedan|Europe|       All|  3836|\n",
      "| Audi|  A6 4.2 Quattro 4dr| Sedan|Europe|       All|  4024|\n",
      "| Audi|    A8 L Quattro 4dr| Sedan|Europe|       All|  4399|\n",
      "| Audi|      S4 Quattro 4dr| Sedan|Europe|       All|  3825|\n",
      "+-----+--------------------+------+------+----------+------+\n",
      "only showing top 20 rows\n",
      "\n"
     ]
    }
   ],
   "source": [
    "df_pyspark.show()"
   ]
  },
  {
   "cell_type": "code",
   "execution_count": 9,
   "id": "76624e1d",
   "metadata": {},
   "outputs": [
    {
     "name": "stdout",
     "output_type": "stream",
     "text": [
      "+----------+----------+------------------+\n",
      "|      Make|DriveTrain|       avg(Length)|\n",
      "+----------+----------+------------------+\n",
      "|    Subaru|       All|3339.3636363636365|\n",
      "|      MINI|     Front|            2601.0|\n",
      "|     Volvo|       All|            3925.2|\n",
      "|     Mazda|      Rear|            2763.2|\n",
      "|    Nissan|      Rear|3472.3333333333335|\n",
      "|   Lincoln|     Front|            4834.0|\n",
      "|     Acura|       All|            4451.0|\n",
      "|   Mercury|     Front|            3765.0|\n",
      "|Mitsubishi|       All|            4426.0|\n",
      "|       GMC|     Front|            4993.5|\n",
      "|     Mazda|     Front|            3078.0|\n",
      "|      Ford|      Rear|3803.4285714285716|\n",
      "|    Nissan|     Front|           3489.25|\n",
      "|   Mercury|      Rear|           4087.75|\n",
      "|Oldsmobile|     Front|3326.3333333333335|\n",
      "|     Lexus|     Front|            3460.0|\n",
      "|Mitsubishi|     Front|            3164.0|\n",
      "|    Nissan|       All|            4609.5|\n",
      "|  Infiniti|     Front|            3306.0|\n",
      "|     Acura|      Rear|            3153.0|\n",
      "+----------+----------+------------------+\n",
      "only showing top 20 rows\n",
      "\n"
     ]
    }
   ],
   "source": [
    "df_pyspark.groupby(['Make', 'DriveTrain']).avg('Length').show()"
   ]
  },
  {
   "cell_type": "code",
   "execution_count": 10,
   "id": "39a1723b",
   "metadata": {},
   "outputs": [
    {
     "name": "stdout",
     "output_type": "stream",
     "text": [
      "+----------+-----------+\n",
      "|      Make|max(Length)|\n",
      "+----------+-----------+\n",
      "|Volkswagen|       5399|\n",
      "|Oldsmobile|       3948|\n",
      "|  Infiniti|       4309|\n",
      "|     Lexus|       5590|\n",
      "|    Jaguar|       4046|\n",
      "|    Saturn|       3381|\n",
      "|     Scion|       2425|\n",
      "|      Jeep|       3826|\n",
      "|Mitsubishi|       4718|\n",
      "|       Kia|       4802|\n",
      "| Chevrolet|       5678|\n",
      "|     Volvo|       4638|\n",
      "|   Hyundai|       3651|\n",
      "|      Saab|       3700|\n",
      "|     Honda|       4387|\n",
      "|      MINI|       2678|\n",
      "|      Audi|       4399|\n",
      "|  Cadillac|       5879|\n",
      "|     Isuzu|       4967|\n",
      "|   Pontiac|       4431|\n",
      "+----------+-----------+\n",
      "only showing top 20 rows\n",
      "\n"
     ]
    }
   ],
   "source": [
    "df_pyspark.groupBy('Make').max('Length').show()"
   ]
  },
  {
   "cell_type": "code",
   "execution_count": 12,
   "id": "ddd2d930",
   "metadata": {},
   "outputs": [
    {
     "name": "stdout",
     "output_type": "stream",
     "text": [
      "+----------+-----+\n",
      "|      Make|count|\n",
      "+----------+-----+\n",
      "|Volkswagen|   15|\n",
      "|Oldsmobile|    3|\n",
      "|  Infiniti|    8|\n",
      "|     Lexus|   11|\n",
      "|    Jaguar|   12|\n",
      "|    Saturn|    8|\n",
      "|     Scion|    2|\n",
      "|      Jeep|    3|\n",
      "|Mitsubishi|   13|\n",
      "|       Kia|   11|\n",
      "| Chevrolet|   27|\n",
      "|     Volvo|   12|\n",
      "|   Hyundai|   12|\n",
      "|      Saab|    7|\n",
      "|     Honda|   17|\n",
      "|      MINI|    2|\n",
      "|      Audi|   19|\n",
      "|  Cadillac|    8|\n",
      "|     Isuzu|    2|\n",
      "|   Pontiac|   11|\n",
      "+----------+-----+\n",
      "only showing top 20 rows\n",
      "\n"
     ]
    }
   ],
   "source": [
    "df_pyspark.groupBy('Make').count().show()"
   ]
  },
  {
   "cell_type": "code",
   "execution_count": 13,
   "id": "b9982847",
   "metadata": {},
   "outputs": [
    {
     "name": "stdout",
     "output_type": "stream",
     "text": [
      "+------------------+\n",
      "|       avg(Length)|\n",
      "+------------------+\n",
      "|3577.9532710280373|\n",
      "+------------------+\n",
      "\n"
     ]
    }
   ],
   "source": [
    "df_pyspark.agg({'Length':'avg'}).show()"
   ]
  },
  {
   "cell_type": "code",
   "execution_count": null,
   "id": "267fdbb0",
   "metadata": {},
   "outputs": [],
   "source": []
  }
 ],
 "metadata": {
  "kernelspec": {
   "display_name": "Python 3 (ipykernel)",
   "language": "python",
   "name": "python3"
  },
  "language_info": {
   "codemirror_mode": {
    "name": "ipython",
    "version": 3
   },
   "file_extension": ".py",
   "mimetype": "text/x-python",
   "name": "python",
   "nbconvert_exporter": "python",
   "pygments_lexer": "ipython3",
   "version": "3.9.12"
  }
 },
 "nbformat": 4,
 "nbformat_minor": 5
}
