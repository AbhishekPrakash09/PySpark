{
 "cells": [
  {
   "cell_type": "code",
   "execution_count": 1,
   "id": "8040b6a8",
   "metadata": {},
   "outputs": [
    {
     "data": {
      "text/html": [
       "\n",
       "            <div>\n",
       "                <p><b>SparkSession - in-memory</b></p>\n",
       "                \n",
       "        <div>\n",
       "            <p><b>SparkContext</b></p>\n",
       "\n",
       "            <p><a href=\"http://192.168.1.6:4040\">Spark UI</a></p>\n",
       "\n",
       "            <dl>\n",
       "              <dt>Version</dt>\n",
       "                <dd><code>v3.3.1</code></dd>\n",
       "              <dt>Master</dt>\n",
       "                <dd><code>local[*]</code></dd>\n",
       "              <dt>AppName</dt>\n",
       "                <dd><code>DataFrame</code></dd>\n",
       "            </dl>\n",
       "        </div>\n",
       "        \n",
       "            </div>\n",
       "        "
      ],
      "text/plain": [
       "<pyspark.sql.session.SparkSession at 0x214c11e5ac0>"
      ]
     },
     "execution_count": 1,
     "metadata": {},
     "output_type": "execute_result"
    }
   ],
   "source": [
    "from pyspark.sql import SparkSession\n",
    "\n",
    "spark = SparkSession.builder.appName('DataFrame').getOrCreate()\n",
    "\n",
    "spark"
   ]
  },
  {
   "cell_type": "markdown",
   "id": "3b263960",
   "metadata": {},
   "source": [
    "#### Read the dataset"
   ]
  },
  {
   "cell_type": "code",
   "execution_count": 2,
   "id": "c17f0357",
   "metadata": {},
   "outputs": [],
   "source": [
    "df_spark_cars = spark.read.option('header', 'true').csv('cars.csv')"
   ]
  },
  {
   "cell_type": "code",
   "execution_count": 3,
   "id": "b693da30",
   "metadata": {},
   "outputs": [
    {
     "name": "stdout",
     "output_type": "stream",
     "text": [
      "+-----+--------------------+------+------+----------+------+\n",
      "| Make|               Model|  Type|Origin|DriveTrain|Length|\n",
      "+-----+--------------------+------+------+----------+------+\n",
      "|Acura|                 MDX|   SUV|  Asia|       All|  4451|\n",
      "|Acura|      RSX Type S 2dr| Sedan|  Asia|     Front|  2778|\n",
      "|Acura|             TSX 4dr| Sedan|  Asia|     Front|  3230|\n",
      "|Acura|              TL 4dr| Sedan|  Asia|     Front|  3575|\n",
      "|Acura|          3.5 RL 4dr| Sedan|  Asia|     Front|  3880|\n",
      "|Acura|3.5 RL w/Navigati...| Sedan|  Asia|     Front|  3893|\n",
      "|Acura|NSX coupe 2dr man...|Sports|  Asia|      Rear|  3153|\n",
      "| Audi|         A4 1.8T 4dr| Sedan|Europe|     Front|  3252|\n",
      "| Audi|A41.8T convertibl...| Sedan|Europe|     Front|  3638|\n",
      "| Audi|          A4 3.0 4dr| Sedan|Europe|     Front|  3462|\n",
      "| Audi|A4 3.0 Quattro 4d...| Sedan|Europe|       All|  3583|\n",
      "| Audi|A4 3.0 Quattro 4d...| Sedan|Europe|       All|  3627|\n",
      "| Audi|          A6 3.0 4dr| Sedan|Europe|     Front|  3561|\n",
      "| Audi|  A6 3.0 Quattro 4dr| Sedan|Europe|       All|  3880|\n",
      "| Audi|A4 3.0 convertibl...| Sedan|Europe|     Front|  3814|\n",
      "| Audi|A4 3.0 Quattro co...| Sedan|Europe|       All|  4013|\n",
      "| Audi|A6 2.7 Turbo Quat...| Sedan|Europe|       All|  3836|\n",
      "| Audi|  A6 4.2 Quattro 4dr| Sedan|Europe|       All|  4024|\n",
      "| Audi|    A8 L Quattro 4dr| Sedan|Europe|       All|  4399|\n",
      "| Audi|      S4 Quattro 4dr| Sedan|Europe|       All|  3825|\n",
      "+-----+--------------------+------+------+----------+------+\n",
      "only showing top 20 rows\n",
      "\n"
     ]
    }
   ],
   "source": [
    "df_spark_cars.show()"
   ]
  },
  {
   "cell_type": "markdown",
   "id": "a6d85a5e",
   "metadata": {},
   "source": [
    "#### Check the schema"
   ]
  },
  {
   "cell_type": "code",
   "execution_count": 4,
   "id": "60706216",
   "metadata": {},
   "outputs": [
    {
     "name": "stdout",
     "output_type": "stream",
     "text": [
      "root\n",
      " |-- Make: string (nullable = true)\n",
      " |-- Model: string (nullable = true)\n",
      " |-- Type: string (nullable = true)\n",
      " |-- Origin: string (nullable = true)\n",
      " |-- DriveTrain: string (nullable = true)\n",
      " |-- Length: string (nullable = true)\n",
      "\n"
     ]
    }
   ],
   "source": [
    "df_spark_cars.printSchema()"
   ]
  },
  {
   "cell_type": "markdown",
   "id": "578edc4b",
   "metadata": {},
   "source": [
    "<font color='blue'>Note: In the above, all variables are coming up as string. If we want integer values to show as int, we need to add a check called inferSchema = 'True' in the csv function as below:</font>"
   ]
  },
  {
   "cell_type": "code",
   "execution_count": 5,
   "id": "150465f8",
   "metadata": {},
   "outputs": [
    {
     "name": "stdout",
     "output_type": "stream",
     "text": [
      "root\n",
      " |-- Make: string (nullable = true)\n",
      " |-- Model: string (nullable = true)\n",
      " |-- Type: string (nullable = true)\n",
      " |-- Origin: string (nullable = true)\n",
      " |-- DriveTrain: string (nullable = true)\n",
      " |-- Length: integer (nullable = true)\n",
      "\n"
     ]
    }
   ],
   "source": [
    "df_spark_cars1 = spark.read.option('header', 'true').csv('cars.csv', inferSchema=True)\n",
    "\n",
    "df_spark_cars1.printSchema()"
   ]
  },
  {
   "cell_type": "code",
   "execution_count": 6,
   "id": "3925a9e6",
   "metadata": {},
   "outputs": [
    {
     "data": {
      "text/plain": [
       "['Make', 'Model', 'Type', 'Origin', 'DriveTrain', 'Length']"
      ]
     },
     "execution_count": 6,
     "metadata": {},
     "output_type": "execute_result"
    }
   ],
   "source": [
    "#Get the column names:\n",
    "\n",
    "df_spark_cars.columns"
   ]
  },
  {
   "cell_type": "code",
   "execution_count": 7,
   "id": "e9f64a58",
   "metadata": {},
   "outputs": [
    {
     "data": {
      "text/plain": [
       "[Row(Make='Acura', Model='MDX', Type='SUV', Origin='Asia', DriveTrain='All', Length='4451'),\n",
       " Row(Make='Acura', Model='RSX Type S 2dr', Type='Sedan', Origin='Asia', DriveTrain='Front', Length='2778'),\n",
       " Row(Make='Acura', Model='TSX 4dr', Type='Sedan', Origin='Asia', DriveTrain='Front', Length='3230'),\n",
       " Row(Make='Acura', Model='TL 4dr', Type='Sedan', Origin='Asia', DriveTrain='Front', Length='3575'),\n",
       " Row(Make='Acura', Model='3.5 RL 4dr', Type='Sedan', Origin='Asia', DriveTrain='Front', Length='3880')]"
      ]
     },
     "execution_count": 7,
     "metadata": {},
     "output_type": "execute_result"
    }
   ],
   "source": [
    "df_spark_cars.head(5)"
   ]
  },
  {
   "cell_type": "code",
   "execution_count": 8,
   "id": "e1c2bd8e",
   "metadata": {},
   "outputs": [
    {
     "data": {
      "text/plain": [
       "DataFrame[Make: string]"
      ]
     },
     "execution_count": 8,
     "metadata": {},
     "output_type": "execute_result"
    }
   ],
   "source": [
    "df_spark_cars.select('Make')"
   ]
  },
  {
   "cell_type": "code",
   "execution_count": 9,
   "id": "ec391252",
   "metadata": {},
   "outputs": [
    {
     "name": "stdout",
     "output_type": "stream",
     "text": [
      "+-----+------+\n",
      "| Make|  Type|\n",
      "+-----+------+\n",
      "|Acura|   SUV|\n",
      "|Acura| Sedan|\n",
      "|Acura| Sedan|\n",
      "|Acura| Sedan|\n",
      "|Acura| Sedan|\n",
      "|Acura| Sedan|\n",
      "|Acura|Sports|\n",
      "| Audi| Sedan|\n",
      "| Audi| Sedan|\n",
      "| Audi| Sedan|\n",
      "| Audi| Sedan|\n",
      "| Audi| Sedan|\n",
      "| Audi| Sedan|\n",
      "| Audi| Sedan|\n",
      "| Audi| Sedan|\n",
      "| Audi| Sedan|\n",
      "| Audi| Sedan|\n",
      "| Audi| Sedan|\n",
      "| Audi| Sedan|\n",
      "| Audi| Sedan|\n",
      "+-----+------+\n",
      "only showing top 20 rows\n",
      "\n"
     ]
    }
   ],
   "source": [
    "df_spark_cars.select(['Make', 'Type']).show()"
   ]
  },
  {
   "cell_type": "code",
   "execution_count": 10,
   "id": "98c12510",
   "metadata": {},
   "outputs": [
    {
     "data": {
      "text/plain": [
       "Column<'Make'>"
      ]
     },
     "execution_count": 10,
     "metadata": {},
     "output_type": "execute_result"
    }
   ],
   "source": [
    "df_spark_cars['Make']"
   ]
  },
  {
   "cell_type": "code",
   "execution_count": 11,
   "id": "85d25926",
   "metadata": {},
   "outputs": [
    {
     "data": {
      "text/plain": [
       "[('Make', 'string'),\n",
       " ('Model', 'string'),\n",
       " ('Type', 'string'),\n",
       " ('Origin', 'string'),\n",
       " ('DriveTrain', 'string'),\n",
       " ('Length', 'string')]"
      ]
     },
     "execution_count": 11,
     "metadata": {},
     "output_type": "execute_result"
    }
   ],
   "source": [
    "df_spark_cars.dtypes"
   ]
  },
  {
   "cell_type": "code",
   "execution_count": 12,
   "id": "9529ae26",
   "metadata": {},
   "outputs": [
    {
     "name": "stdout",
     "output_type": "stream",
     "text": [
      "+-------+-----+----------+------+------+----------+------------------+\n",
      "|summary| Make|     Model|  Type|Origin|DriveTrain|            Length|\n",
      "+-------+-----+----------+------+------+----------+------------------+\n",
      "|  count|  428|       428|   428|   428|       428|               428|\n",
      "|   mean| null|      null|  null|  null|      null|3577.9532710280373|\n",
      "| stddev| null|      null|  null|  null|      null| 758.9832146098707|\n",
      "|    min|Acura|3.5 RL 4dr|Hybrid|  Asia|       All|              1850|\n",
      "|    max|Volvo|        xB| Wagon|   USA|      Rear|              7190|\n",
      "+-------+-----+----------+------+------+----------+------------------+\n",
      "\n"
     ]
    }
   ],
   "source": [
    "df_spark_cars1.describe().show()"
   ]
  },
  {
   "cell_type": "markdown",
   "id": "9ae552f9",
   "metadata": {},
   "source": [
    "#### Adding columns in dataframe"
   ]
  },
  {
   "cell_type": "code",
   "execution_count": 13,
   "id": "1893dcb0",
   "metadata": {},
   "outputs": [
    {
     "name": "stdout",
     "output_type": "stream",
     "text": [
      "+-----+--------------------+------+------+----------+------+-----+\n",
      "| Make|               Model|  Type|Origin|DriveTrain|Length|Price|\n",
      "+-----+--------------------+------+------+----------+------+-----+\n",
      "|Acura|                 MDX|   SUV|  Asia|       All|  4451| 8902|\n",
      "|Acura|      RSX Type S 2dr| Sedan|  Asia|     Front|  2778| 5556|\n",
      "|Acura|             TSX 4dr| Sedan|  Asia|     Front|  3230| 6460|\n",
      "|Acura|              TL 4dr| Sedan|  Asia|     Front|  3575| 7150|\n",
      "|Acura|          3.5 RL 4dr| Sedan|  Asia|     Front|  3880| 7760|\n",
      "|Acura|3.5 RL w/Navigati...| Sedan|  Asia|     Front|  3893| 7786|\n",
      "|Acura|NSX coupe 2dr man...|Sports|  Asia|      Rear|  3153| 6306|\n",
      "| Audi|         A4 1.8T 4dr| Sedan|Europe|     Front|  3252| 6504|\n",
      "| Audi|A41.8T convertibl...| Sedan|Europe|     Front|  3638| 7276|\n",
      "| Audi|          A4 3.0 4dr| Sedan|Europe|     Front|  3462| 6924|\n",
      "| Audi|A4 3.0 Quattro 4d...| Sedan|Europe|       All|  3583| 7166|\n",
      "| Audi|A4 3.0 Quattro 4d...| Sedan|Europe|       All|  3627| 7254|\n",
      "| Audi|          A6 3.0 4dr| Sedan|Europe|     Front|  3561| 7122|\n",
      "| Audi|  A6 3.0 Quattro 4dr| Sedan|Europe|       All|  3880| 7760|\n",
      "| Audi|A4 3.0 convertibl...| Sedan|Europe|     Front|  3814| 7628|\n",
      "| Audi|A4 3.0 Quattro co...| Sedan|Europe|       All|  4013| 8026|\n",
      "| Audi|A6 2.7 Turbo Quat...| Sedan|Europe|       All|  3836| 7672|\n",
      "| Audi|  A6 4.2 Quattro 4dr| Sedan|Europe|       All|  4024| 8048|\n",
      "| Audi|    A8 L Quattro 4dr| Sedan|Europe|       All|  4399| 8798|\n",
      "| Audi|      S4 Quattro 4dr| Sedan|Europe|       All|  3825| 7650|\n",
      "+-----+--------------------+------+------+----------+------+-----+\n",
      "only showing top 20 rows\n",
      "\n"
     ]
    }
   ],
   "source": [
    "df_spark_cars1.withColumn('Price', df_spark_cars1['Length']*2).show()"
   ]
  },
  {
   "cell_type": "code",
   "execution_count": 14,
   "id": "2fc31338",
   "metadata": {},
   "outputs": [
    {
     "name": "stdout",
     "output_type": "stream",
     "text": [
      "+-----+--------------------+------+------+----------+------+\n",
      "| Make|               Model|  Type|Origin|DriveTrain|Length|\n",
      "+-----+--------------------+------+------+----------+------+\n",
      "|Acura|                 MDX|   SUV|  Asia|       All|  4451|\n",
      "|Acura|      RSX Type S 2dr| Sedan|  Asia|     Front|  2778|\n",
      "|Acura|             TSX 4dr| Sedan|  Asia|     Front|  3230|\n",
      "|Acura|              TL 4dr| Sedan|  Asia|     Front|  3575|\n",
      "|Acura|          3.5 RL 4dr| Sedan|  Asia|     Front|  3880|\n",
      "|Acura|3.5 RL w/Navigati...| Sedan|  Asia|     Front|  3893|\n",
      "|Acura|NSX coupe 2dr man...|Sports|  Asia|      Rear|  3153|\n",
      "| Audi|         A4 1.8T 4dr| Sedan|Europe|     Front|  3252|\n",
      "| Audi|A41.8T convertibl...| Sedan|Europe|     Front|  3638|\n",
      "| Audi|          A4 3.0 4dr| Sedan|Europe|     Front|  3462|\n",
      "| Audi|A4 3.0 Quattro 4d...| Sedan|Europe|       All|  3583|\n",
      "| Audi|A4 3.0 Quattro 4d...| Sedan|Europe|       All|  3627|\n",
      "| Audi|          A6 3.0 4dr| Sedan|Europe|     Front|  3561|\n",
      "| Audi|  A6 3.0 Quattro 4dr| Sedan|Europe|       All|  3880|\n",
      "| Audi|A4 3.0 convertibl...| Sedan|Europe|     Front|  3814|\n",
      "| Audi|A4 3.0 Quattro co...| Sedan|Europe|       All|  4013|\n",
      "| Audi|A6 2.7 Turbo Quat...| Sedan|Europe|       All|  3836|\n",
      "| Audi|  A6 4.2 Quattro 4dr| Sedan|Europe|       All|  4024|\n",
      "| Audi|    A8 L Quattro 4dr| Sedan|Europe|       All|  4399|\n",
      "| Audi|      S4 Quattro 4dr| Sedan|Europe|       All|  3825|\n",
      "+-----+--------------------+------+------+----------+------+\n",
      "only showing top 20 rows\n",
      "\n"
     ]
    }
   ],
   "source": [
    "df_spark_cars1.show()"
   ]
  },
  {
   "cell_type": "code",
   "execution_count": 15,
   "id": "6f1aed29",
   "metadata": {},
   "outputs": [],
   "source": [
    "df_spark_cars1 = df_spark_cars1.withColumn('Price', df_spark_cars1['Length']*2)"
   ]
  },
  {
   "cell_type": "markdown",
   "id": "8419bba7",
   "metadata": {},
   "source": [
    "#### Drop the columns"
   ]
  },
  {
   "cell_type": "code",
   "execution_count": 17,
   "id": "0590f7a7",
   "metadata": {},
   "outputs": [],
   "source": [
    "df_spark_cars1 = df_spark_cars1.drop('Price')"
   ]
  },
  {
   "cell_type": "code",
   "execution_count": 18,
   "id": "82476bd3",
   "metadata": {},
   "outputs": [
    {
     "name": "stdout",
     "output_type": "stream",
     "text": [
      "+-----+--------------------+------+------+----------+------+\n",
      "| Make|               Model|  Type|Origin|DriveTrain|Length|\n",
      "+-----+--------------------+------+------+----------+------+\n",
      "|Acura|                 MDX|   SUV|  Asia|       All|  4451|\n",
      "|Acura|      RSX Type S 2dr| Sedan|  Asia|     Front|  2778|\n",
      "|Acura|             TSX 4dr| Sedan|  Asia|     Front|  3230|\n",
      "|Acura|              TL 4dr| Sedan|  Asia|     Front|  3575|\n",
      "|Acura|          3.5 RL 4dr| Sedan|  Asia|     Front|  3880|\n",
      "|Acura|3.5 RL w/Navigati...| Sedan|  Asia|     Front|  3893|\n",
      "|Acura|NSX coupe 2dr man...|Sports|  Asia|      Rear|  3153|\n",
      "| Audi|         A4 1.8T 4dr| Sedan|Europe|     Front|  3252|\n",
      "| Audi|A41.8T convertibl...| Sedan|Europe|     Front|  3638|\n",
      "| Audi|          A4 3.0 4dr| Sedan|Europe|     Front|  3462|\n",
      "| Audi|A4 3.0 Quattro 4d...| Sedan|Europe|       All|  3583|\n",
      "| Audi|A4 3.0 Quattro 4d...| Sedan|Europe|       All|  3627|\n",
      "| Audi|          A6 3.0 4dr| Sedan|Europe|     Front|  3561|\n",
      "| Audi|  A6 3.0 Quattro 4dr| Sedan|Europe|       All|  3880|\n",
      "| Audi|A4 3.0 convertibl...| Sedan|Europe|     Front|  3814|\n",
      "| Audi|A4 3.0 Quattro co...| Sedan|Europe|       All|  4013|\n",
      "| Audi|A6 2.7 Turbo Quat...| Sedan|Europe|       All|  3836|\n",
      "| Audi|  A6 4.2 Quattro 4dr| Sedan|Europe|       All|  4024|\n",
      "| Audi|    A8 L Quattro 4dr| Sedan|Europe|       All|  4399|\n",
      "| Audi|      S4 Quattro 4dr| Sedan|Europe|       All|  3825|\n",
      "+-----+--------------------+------+------+----------+------+\n",
      "only showing top 20 rows\n",
      "\n"
     ]
    }
   ],
   "source": [
    "df_spark_cars1.show()"
   ]
  },
  {
   "cell_type": "markdown",
   "id": "51afc6ec",
   "metadata": {},
   "source": [
    "#### Rename columns"
   ]
  },
  {
   "cell_type": "code",
   "execution_count": 20,
   "id": "88617496",
   "metadata": {},
   "outputs": [],
   "source": [
    "df_spark_cars1 = df_spark_cars1.withColumnRenamed('Length', 'Real Length')"
   ]
  },
  {
   "cell_type": "code",
   "execution_count": 21,
   "id": "9c528567",
   "metadata": {},
   "outputs": [
    {
     "name": "stdout",
     "output_type": "stream",
     "text": [
      "+-----+--------------------+------+------+----------+-----------+\n",
      "| Make|               Model|  Type|Origin|DriveTrain|Real Length|\n",
      "+-----+--------------------+------+------+----------+-----------+\n",
      "|Acura|                 MDX|   SUV|  Asia|       All|       4451|\n",
      "|Acura|      RSX Type S 2dr| Sedan|  Asia|     Front|       2778|\n",
      "|Acura|             TSX 4dr| Sedan|  Asia|     Front|       3230|\n",
      "|Acura|              TL 4dr| Sedan|  Asia|     Front|       3575|\n",
      "|Acura|          3.5 RL 4dr| Sedan|  Asia|     Front|       3880|\n",
      "|Acura|3.5 RL w/Navigati...| Sedan|  Asia|     Front|       3893|\n",
      "|Acura|NSX coupe 2dr man...|Sports|  Asia|      Rear|       3153|\n",
      "| Audi|         A4 1.8T 4dr| Sedan|Europe|     Front|       3252|\n",
      "| Audi|A41.8T convertibl...| Sedan|Europe|     Front|       3638|\n",
      "| Audi|          A4 3.0 4dr| Sedan|Europe|     Front|       3462|\n",
      "| Audi|A4 3.0 Quattro 4d...| Sedan|Europe|       All|       3583|\n",
      "| Audi|A4 3.0 Quattro 4d...| Sedan|Europe|       All|       3627|\n",
      "| Audi|          A6 3.0 4dr| Sedan|Europe|     Front|       3561|\n",
      "| Audi|  A6 3.0 Quattro 4dr| Sedan|Europe|       All|       3880|\n",
      "| Audi|A4 3.0 convertibl...| Sedan|Europe|     Front|       3814|\n",
      "| Audi|A4 3.0 Quattro co...| Sedan|Europe|       All|       4013|\n",
      "| Audi|A6 2.7 Turbo Quat...| Sedan|Europe|       All|       3836|\n",
      "| Audi|  A6 4.2 Quattro 4dr| Sedan|Europe|       All|       4024|\n",
      "| Audi|    A8 L Quattro 4dr| Sedan|Europe|       All|       4399|\n",
      "| Audi|      S4 Quattro 4dr| Sedan|Europe|       All|       3825|\n",
      "+-----+--------------------+------+------+----------+-----------+\n",
      "only showing top 20 rows\n",
      "\n"
     ]
    }
   ],
   "source": [
    "df_spark_cars1.show()"
   ]
  },
  {
   "cell_type": "code",
   "execution_count": null,
   "id": "104da10a",
   "metadata": {},
   "outputs": [],
   "source": []
  }
 ],
 "metadata": {
  "kernelspec": {
   "display_name": "Python 3 (ipykernel)",
   "language": "python",
   "name": "python3"
  },
  "language_info": {
   "codemirror_mode": {
    "name": "ipython",
    "version": 3
   },
   "file_extension": ".py",
   "mimetype": "text/x-python",
   "name": "python",
   "nbconvert_exporter": "python",
   "pygments_lexer": "ipython3",
   "version": "3.9.12"
  }
 },
 "nbformat": 4,
 "nbformat_minor": 5
}
