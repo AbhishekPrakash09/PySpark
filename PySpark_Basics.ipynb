{
 "cells": [
  {
   "cell_type": "code",
   "execution_count": 1,
   "id": "763d7173",
   "metadata": {},
   "outputs": [],
   "source": [
    "import pyspark"
   ]
  },
  {
   "cell_type": "code",
   "execution_count": 2,
   "id": "e73b33d0",
   "metadata": {},
   "outputs": [],
   "source": [
    "import pandas as pd\n",
    "df_cars = pd.read_csv('cars.csv')"
   ]
  },
  {
   "cell_type": "code",
   "execution_count": 3,
   "id": "317598fe",
   "metadata": {},
   "outputs": [],
   "source": [
    "from pyspark.sql import SparkSession"
   ]
  },
  {
   "cell_type": "code",
   "execution_count": 4,
   "id": "a04631b5",
   "metadata": {},
   "outputs": [],
   "source": [
    "spark = SparkSession.builder.appName('Practice').getOrCreate()"
   ]
  },
  {
   "cell_type": "code",
   "execution_count": 5,
   "id": "008af801",
   "metadata": {},
   "outputs": [
    {
     "data": {
      "text/html": [
       "\n",
       "            <div>\n",
       "                <p><b>SparkSession - in-memory</b></p>\n",
       "                \n",
       "        <div>\n",
       "            <p><b>SparkContext</b></p>\n",
       "\n",
       "            <p><a href=\"http://192.168.1.6:4040\">Spark UI</a></p>\n",
       "\n",
       "            <dl>\n",
       "              <dt>Version</dt>\n",
       "                <dd><code>v3.3.1</code></dd>\n",
       "              <dt>Master</dt>\n",
       "                <dd><code>local[*]</code></dd>\n",
       "              <dt>AppName</dt>\n",
       "                <dd><code>Practice</code></dd>\n",
       "            </dl>\n",
       "        </div>\n",
       "        \n",
       "            </div>\n",
       "        "
      ],
      "text/plain": [
       "<pyspark.sql.session.SparkSession at 0x1b5cb057a90>"
      ]
     },
     "execution_count": 5,
     "metadata": {},
     "output_type": "execute_result"
    }
   ],
   "source": [
    "spark"
   ]
  },
  {
   "cell_type": "code",
   "execution_count": 6,
   "id": "a98f2ead",
   "metadata": {},
   "outputs": [],
   "source": [
    "df_spark = spark.read.csv('cars.csv')"
   ]
  },
  {
   "cell_type": "code",
   "execution_count": 7,
   "id": "656ccb62",
   "metadata": {},
   "outputs": [
    {
     "data": {
      "text/plain": [
       "pyspark.sql.dataframe.DataFrame"
      ]
     },
     "execution_count": 7,
     "metadata": {},
     "output_type": "execute_result"
    }
   ],
   "source": [
    "type(df_spark)"
   ]
  },
  {
   "cell_type": "code",
   "execution_count": 11,
   "id": "e065893a",
   "metadata": {},
   "outputs": [],
   "source": [
    "df_spark = spark.read.option('header', 'true').csv('cars.csv')"
   ]
  },
  {
   "cell_type": "code",
   "execution_count": 12,
   "id": "060733f6",
   "metadata": {},
   "outputs": [
    {
     "name": "stdout",
     "output_type": "stream",
     "text": [
      "+-----+--------------------+------+------+----------+------+\n",
      "| Make|               Model|  Type|Origin|DriveTrain|Length|\n",
      "+-----+--------------------+------+------+----------+------+\n",
      "|Acura|                 MDX|   SUV|  Asia|       All|  4451|\n",
      "|Acura|      RSX Type S 2dr| Sedan|  Asia|     Front|  2778|\n",
      "|Acura|             TSX 4dr| Sedan|  Asia|     Front|  3230|\n",
      "|Acura|              TL 4dr| Sedan|  Asia|     Front|  3575|\n",
      "|Acura|          3.5 RL 4dr| Sedan|  Asia|     Front|  3880|\n",
      "|Acura|3.5 RL w/Navigati...| Sedan|  Asia|     Front|  3893|\n",
      "|Acura|NSX coupe 2dr man...|Sports|  Asia|      Rear|  3153|\n",
      "| Audi|         A4 1.8T 4dr| Sedan|Europe|     Front|  3252|\n",
      "| Audi|A41.8T convertibl...| Sedan|Europe|     Front|  3638|\n",
      "| Audi|          A4 3.0 4dr| Sedan|Europe|     Front|  3462|\n",
      "| Audi|A4 3.0 Quattro 4d...| Sedan|Europe|       All|  3583|\n",
      "| Audi|A4 3.0 Quattro 4d...| Sedan|Europe|       All|  3627|\n",
      "| Audi|          A6 3.0 4dr| Sedan|Europe|     Front|  3561|\n",
      "| Audi|  A6 3.0 Quattro 4dr| Sedan|Europe|       All|  3880|\n",
      "| Audi|A4 3.0 convertibl...| Sedan|Europe|     Front|  3814|\n",
      "| Audi|A4 3.0 Quattro co...| Sedan|Europe|       All|  4013|\n",
      "| Audi|A6 2.7 Turbo Quat...| Sedan|Europe|       All|  3836|\n",
      "| Audi|  A6 4.2 Quattro 4dr| Sedan|Europe|       All|  4024|\n",
      "| Audi|    A8 L Quattro 4dr| Sedan|Europe|       All|  4399|\n",
      "| Audi|      S4 Quattro 4dr| Sedan|Europe|       All|  3825|\n",
      "+-----+--------------------+------+------+----------+------+\n",
      "only showing top 20 rows\n",
      "\n"
     ]
    }
   ],
   "source": [
    "df_spark.show()"
   ]
  },
  {
   "cell_type": "code",
   "execution_count": 13,
   "id": "89dfec73",
   "metadata": {},
   "outputs": [
    {
     "data": {
      "text/html": [
       "<div>\n",
       "<style scoped>\n",
       "    .dataframe tbody tr th:only-of-type {\n",
       "        vertical-align: middle;\n",
       "    }\n",
       "\n",
       "    .dataframe tbody tr th {\n",
       "        vertical-align: top;\n",
       "    }\n",
       "\n",
       "    .dataframe thead th {\n",
       "        text-align: right;\n",
       "    }\n",
       "</style>\n",
       "<table border=\"1\" class=\"dataframe\">\n",
       "  <thead>\n",
       "    <tr style=\"text-align: right;\">\n",
       "      <th></th>\n",
       "      <th>Make</th>\n",
       "      <th>Model</th>\n",
       "      <th>Type</th>\n",
       "      <th>Origin</th>\n",
       "      <th>DriveTrain</th>\n",
       "      <th>Length</th>\n",
       "    </tr>\n",
       "  </thead>\n",
       "  <tbody>\n",
       "    <tr>\n",
       "      <th>0</th>\n",
       "      <td>Acura</td>\n",
       "      <td>MDX</td>\n",
       "      <td>SUV</td>\n",
       "      <td>Asia</td>\n",
       "      <td>All</td>\n",
       "      <td>4451</td>\n",
       "    </tr>\n",
       "    <tr>\n",
       "      <th>1</th>\n",
       "      <td>Acura</td>\n",
       "      <td>RSX Type S 2dr</td>\n",
       "      <td>Sedan</td>\n",
       "      <td>Asia</td>\n",
       "      <td>Front</td>\n",
       "      <td>2778</td>\n",
       "    </tr>\n",
       "    <tr>\n",
       "      <th>2</th>\n",
       "      <td>Acura</td>\n",
       "      <td>TSX 4dr</td>\n",
       "      <td>Sedan</td>\n",
       "      <td>Asia</td>\n",
       "      <td>Front</td>\n",
       "      <td>3230</td>\n",
       "    </tr>\n",
       "    <tr>\n",
       "      <th>3</th>\n",
       "      <td>Acura</td>\n",
       "      <td>TL 4dr</td>\n",
       "      <td>Sedan</td>\n",
       "      <td>Asia</td>\n",
       "      <td>Front</td>\n",
       "      <td>3575</td>\n",
       "    </tr>\n",
       "    <tr>\n",
       "      <th>4</th>\n",
       "      <td>Acura</td>\n",
       "      <td>3.5 RL 4dr</td>\n",
       "      <td>Sedan</td>\n",
       "      <td>Asia</td>\n",
       "      <td>Front</td>\n",
       "      <td>3880</td>\n",
       "    </tr>\n",
       "  </tbody>\n",
       "</table>\n",
       "</div>"
      ],
      "text/plain": [
       "    Make           Model   Type Origin DriveTrain  Length\n",
       "0  Acura             MDX    SUV   Asia        All    4451\n",
       "1  Acura  RSX Type S 2dr  Sedan   Asia      Front    2778\n",
       "2  Acura         TSX 4dr  Sedan   Asia      Front    3230\n",
       "3  Acura          TL 4dr  Sedan   Asia      Front    3575\n",
       "4  Acura      3.5 RL 4dr  Sedan   Asia      Front    3880"
      ]
     },
     "execution_count": 13,
     "metadata": {},
     "output_type": "execute_result"
    }
   ],
   "source": [
    "df_cars.head()"
   ]
  },
  {
   "cell_type": "code",
   "execution_count": 14,
   "id": "b366fa43",
   "metadata": {},
   "outputs": [
    {
     "data": {
      "text/plain": [
       "Row(Make='Acura', Model='MDX', Type='SUV', Origin='Asia', DriveTrain='All', Length='4451')"
      ]
     },
     "execution_count": 14,
     "metadata": {},
     "output_type": "execute_result"
    }
   ],
   "source": [
    "df_spark.head()"
   ]
  },
  {
   "cell_type": "code",
   "execution_count": 15,
   "id": "2fcd5d57",
   "metadata": {},
   "outputs": [
    {
     "name": "stdout",
     "output_type": "stream",
     "text": [
      "root\n",
      " |-- Make: string (nullable = true)\n",
      " |-- Model: string (nullable = true)\n",
      " |-- Type: string (nullable = true)\n",
      " |-- Origin: string (nullable = true)\n",
      " |-- DriveTrain: string (nullable = true)\n",
      " |-- Length: string (nullable = true)\n",
      "\n"
     ]
    }
   ],
   "source": [
    "df_spark.printSchema()"
   ]
  },
  {
   "cell_type": "code",
   "execution_count": null,
   "id": "2b1960ec",
   "metadata": {},
   "outputs": [],
   "source": []
  }
 ],
 "metadata": {
  "kernelspec": {
   "display_name": "Python 3 (ipykernel)",
   "language": "python",
   "name": "python3"
  },
  "language_info": {
   "codemirror_mode": {
    "name": "ipython",
    "version": 3
   },
   "file_extension": ".py",
   "mimetype": "text/x-python",
   "name": "python",
   "nbconvert_exporter": "python",
   "pygments_lexer": "ipython3",
   "version": "3.9.12"
  }
 },
 "nbformat": 4,
 "nbformat_minor": 5
}
