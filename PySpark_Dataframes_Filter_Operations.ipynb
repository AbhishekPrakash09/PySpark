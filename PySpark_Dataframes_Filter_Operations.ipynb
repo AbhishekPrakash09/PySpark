{
 "cells": [
  {
   "cell_type": "code",
   "execution_count": 1,
   "id": "ce69476c",
   "metadata": {},
   "outputs": [],
   "source": [
    "from pyspark.sql import SparkSession\n",
    "spark = SparkSession.builder.appName('Practice').getOrCreate()"
   ]
  },
  {
   "cell_type": "code",
   "execution_count": 2,
   "id": "bae4dc79",
   "metadata": {},
   "outputs": [],
   "source": [
    "df_pyspark = spark.read.csv('cars.csv', header=True, inferSchema=True)"
   ]
  },
  {
   "cell_type": "code",
   "execution_count": 3,
   "id": "cf9d25c2",
   "metadata": {},
   "outputs": [
    {
     "name": "stdout",
     "output_type": "stream",
     "text": [
      "+-----+--------------------+------+------+----------+------+\n",
      "| Make|               Model|  Type|Origin|DriveTrain|Length|\n",
      "+-----+--------------------+------+------+----------+------+\n",
      "|Acura|                 MDX|   SUV|  Asia|       All|  4451|\n",
      "|Acura|      RSX Type S 2dr| Sedan|  Asia|     Front|  2778|\n",
      "|Acura|             TSX 4dr| Sedan|  Asia|     Front|  3230|\n",
      "|Acura|              TL 4dr| Sedan|  Asia|     Front|  3575|\n",
      "|Acura|          3.5 RL 4dr| Sedan|  Asia|     Front|  3880|\n",
      "|Acura|3.5 RL w/Navigati...| Sedan|  Asia|     Front|  3893|\n",
      "|Acura|NSX coupe 2dr man...|Sports|  Asia|      Rear|  3153|\n",
      "| Audi|         A4 1.8T 4dr| Sedan|Europe|     Front|  3252|\n",
      "| Audi|A41.8T convertibl...| Sedan|Europe|     Front|  3638|\n",
      "| Audi|          A4 3.0 4dr| Sedan|Europe|     Front|  3462|\n",
      "| Audi|A4 3.0 Quattro 4d...| Sedan|Europe|       All|  3583|\n",
      "| Audi|A4 3.0 Quattro 4d...| Sedan|Europe|       All|  3627|\n",
      "| Audi|          A6 3.0 4dr| Sedan|Europe|     Front|  3561|\n",
      "| Audi|  A6 3.0 Quattro 4dr| Sedan|Europe|       All|  3880|\n",
      "| Audi|A4 3.0 convertibl...| Sedan|Europe|     Front|  3814|\n",
      "| Audi|A4 3.0 Quattro co...| Sedan|Europe|       All|  4013|\n",
      "| Audi|A6 2.7 Turbo Quat...| Sedan|Europe|       All|  3836|\n",
      "| Audi|  A6 4.2 Quattro 4dr| Sedan|Europe|       All|  4024|\n",
      "| Audi|    A8 L Quattro 4dr| Sedan|Europe|       All|  4399|\n",
      "| Audi|      S4 Quattro 4dr| Sedan|Europe|       All|  3825|\n",
      "+-----+--------------------+------+------+----------+------+\n",
      "only showing top 20 rows\n",
      "\n"
     ]
    }
   ],
   "source": [
    "df_pyspark.show()"
   ]
  },
  {
   "cell_type": "markdown",
   "id": "d7fef3fa",
   "metadata": {},
   "source": [
    "#### Filtering"
   ]
  },
  {
   "cell_type": "code",
   "execution_count": 4,
   "id": "63187d44",
   "metadata": {},
   "outputs": [
    {
     "name": "stdout",
     "output_type": "stream",
     "text": [
      "+---------+--------------------+------+------+----------+------+\n",
      "|     Make|               Model|  Type|Origin|DriveTrain|Length|\n",
      "+---------+--------------------+------+------+----------+------+\n",
      "|    Acura|      RSX Type S 2dr| Sedan|  Asia|     Front|  2778|\n",
      "|     Audi|TT 1.8 Quattro 2d...|Sports|Europe|       All|  2921|\n",
      "|      BMW|Z4 convertible 2....|Sports|Europe|      Rear|  2932|\n",
      "|      BMW|Z4 convertible 3....|Sports|Europe|      Rear|  2998|\n",
      "|Chevrolet|             Tracker|   SUV|   USA|     Front|  2866|\n",
      "|Chevrolet|            Aveo 4dr| Sedan|   USA|     Front|  2370|\n",
      "|Chevrolet|   Aveo LS 4dr hatch| Sedan|   USA|     Front|  2348|\n",
      "|Chevrolet|        Cavalier 2dr| Sedan|   USA|     Front|  2617|\n",
      "|Chevrolet|        Cavalier 4dr| Sedan|   USA|     Front|  2676|\n",
      "|Chevrolet|     Cavalier LS 2dr| Sedan|   USA|     Front|  2617|\n",
      "|    Dodge|         Neon SE 4dr| Sedan|   USA|     Front|  2581|\n",
      "|    Dodge|        Neon SXT 4dr| Sedan|   USA|     Front|  2626|\n",
      "|     Ford| Focus ZX3 2dr hatch| Sedan|   USA|     Front|  2612|\n",
      "|     Ford|        Focus LX 4dr| Sedan|   USA|     Front|  2606|\n",
      "|     Ford|        Focus SE 4dr| Sedan|   USA|     Front|  2606|\n",
      "|     Ford|       Focus ZX5 5dr| Sedan|   USA|     Front|  2691|\n",
      "|     Ford|       Focus SVT 2dr| Sedan|   USA|     Front|  2750|\n",
      "|     Ford|           Focus ZTW| Wagon|   USA|     Front|  2702|\n",
      "|    Honda|Civic Hybrid 4dr ...|Hybrid|  Asia|     Front|  2732|\n",
      "|    Honda|Insight 2dr (gas/...|Hybrid|  Asia|     Front|  1850|\n",
      "+---------+--------------------+------+------+----------+------+\n",
      "only showing top 20 rows\n",
      "\n"
     ]
    }
   ],
   "source": [
    "df_pyspark.filter('Length <= 3000').show()"
   ]
  },
  {
   "cell_type": "code",
   "execution_count": 5,
   "id": "94366b20",
   "metadata": {},
   "outputs": [
    {
     "name": "stdout",
     "output_type": "stream",
     "text": [
      "+---------+--------------------+\n",
      "|     Make|               Model|\n",
      "+---------+--------------------+\n",
      "|    Acura|      RSX Type S 2dr|\n",
      "|     Audi|TT 1.8 Quattro 2d...|\n",
      "|      BMW|Z4 convertible 2....|\n",
      "|      BMW|Z4 convertible 3....|\n",
      "|Chevrolet|             Tracker|\n",
      "|Chevrolet|            Aveo 4dr|\n",
      "|Chevrolet|   Aveo LS 4dr hatch|\n",
      "|Chevrolet|        Cavalier 2dr|\n",
      "|Chevrolet|        Cavalier 4dr|\n",
      "|Chevrolet|     Cavalier LS 2dr|\n",
      "|    Dodge|         Neon SE 4dr|\n",
      "|    Dodge|        Neon SXT 4dr|\n",
      "|     Ford| Focus ZX3 2dr hatch|\n",
      "|     Ford|        Focus LX 4dr|\n",
      "|     Ford|        Focus SE 4dr|\n",
      "|     Ford|       Focus ZX5 5dr|\n",
      "|     Ford|       Focus SVT 2dr|\n",
      "|     Ford|           Focus ZTW|\n",
      "|    Honda|Civic Hybrid 4dr ...|\n",
      "|    Honda|Insight 2dr (gas/...|\n",
      "+---------+--------------------+\n",
      "only showing top 20 rows\n",
      "\n"
     ]
    }
   ],
   "source": [
    "df_pyspark.filter('Length <= 3000').select(['Make', 'Model']).show()"
   ]
  },
  {
   "cell_type": "code",
   "execution_count": 11,
   "id": "7b205490",
   "metadata": {},
   "outputs": [],
   "source": [
    "from pyspark.sql.functions import col"
   ]
  },
  {
   "cell_type": "code",
   "execution_count": 16,
   "id": "2e58193e",
   "metadata": {},
   "outputs": [
    {
     "name": "stdout",
     "output_type": "stream",
     "text": [
      "+-------+--------------------+\n",
      "|   Make|               Model|\n",
      "+-------+--------------------+\n",
      "|    BMW|Z4 convertible 2....|\n",
      "|    BMW|Z4 convertible 3....|\n",
      "|  Honda|S2000 convertible...|\n",
      "|  Mazda|MX-5 Miata conver...|\n",
      "|  Mazda|MX-5 Miata LS con...|\n",
      "|  Mazda|B2300 SX Regular Cab|\n",
      "|Pontiac|                Vibe|\n",
      "|Porsche|Boxster convertib...|\n",
      "|Porsche|Boxster S convert...|\n",
      "| Toyota|MR2 Spyder conver...|\n",
      "| Toyota|              Tacoma|\n",
      "+-------+--------------------+\n",
      "\n"
     ]
    }
   ],
   "source": [
    "df_pyspark.filter((col('Length')<=3000) & (col('DriveTrain') =='Rear')).select(['Make', 'Model']).show()"
   ]
  },
  {
   "cell_type": "code",
   "execution_count": null,
   "id": "3ff85ab5",
   "metadata": {},
   "outputs": [],
   "source": []
  }
 ],
 "metadata": {
  "kernelspec": {
   "display_name": "Python 3 (ipykernel)",
   "language": "python",
   "name": "python3"
  },
  "language_info": {
   "codemirror_mode": {
    "name": "ipython",
    "version": 3
   },
   "file_extension": ".py",
   "mimetype": "text/x-python",
   "name": "python",
   "nbconvert_exporter": "python",
   "pygments_lexer": "ipython3",
   "version": "3.9.12"
  }
 },
 "nbformat": 4,
 "nbformat_minor": 5
}
